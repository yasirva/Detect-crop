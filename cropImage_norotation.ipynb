{
 "cells": [
  {
   "cell_type": "markdown",
   "metadata": {
    "colab_type": "text",
    "id": "V8-yl-s-WKMG"
   },
   "source": [
    "# Object Detection Demo\n",
    "Welcome to the object detection inference walkthrough!  This notebook will walk you step by step through the process of using a pre-trained model to detect objects in an image. Make sure to follow the [installation instructions](https://github.com/tensorflow/models/blob/master/research/object_detection/g3doc/installation.md) before you start."
   ]
  },
  {
   "cell_type": "markdown",
   "metadata": {
    "colab_type": "text",
    "id": "kFSqkTCdWKMI"
   },
   "source": [
    "# Imports"
   ]
  },
  {
   "cell_type": "code",
   "execution_count": 1,
   "metadata": {
    "colab": {
     "autoexec": {
      "startup": false,
      "wait_interval": 0
     }
    },
    "colab_type": "code",
    "id": "hV4P5gyTWKMI"
   },
   "outputs": [],
   "source": [
    "import numpy as np\n",
    "import os\n",
    "import six.moves.urllib as urllib\n",
    "import sys\n",
    "import tarfile\n",
    "import tensorflow as tf\n",
    "import zipfile\n",
    "import cv2\n",
    "import time\n",
    "\n",
    "from collections import defaultdict\n",
    "from io import StringIO\n",
    "from matplotlib import pyplot as plt\n",
    "%matplotlib inline\n",
    "from PIL import Image"
   ]
  },
  {
   "cell_type": "markdown",
   "metadata": {
    "colab_type": "text",
    "id": "r5FNuiRPWKMN"
   },
   "source": [
    "## Object detection imports\n",
    "Here are the imports from the object detection module."
   ]
  },
  {
   "cell_type": "code",
   "execution_count": 2,
   "metadata": {
    "colab": {
     "autoexec": {
      "startup": false,
      "wait_interval": 0
     }
    },
    "colab_type": "code",
    "id": "bm0_uNRnWKMN"
   },
   "outputs": [],
   "source": [
    "sys.path.append(\"D:\\\\Python\\\\models-master\\\\research\\\\\")\n",
    "from object_detection.utils import ops as utils_ops\n",
    "\n",
    "from object_detection.utils import label_map_util\n",
    "\n",
    "from object_detection.utils import visualization_utils as vis_util"
   ]
  },
  {
   "cell_type": "code",
   "execution_count": null,
   "metadata": {
    "colab": {
     "autoexec": {
      "startup": false,
      "wait_interval": 0
     }
    },
    "colab_type": "code",
    "id": "jG-zn5ykWKMd"
   },
   "outputs": [],
   "source": []
  },
  {
   "cell_type": "code",
   "execution_count": 39,
   "metadata": {
    "colab": {
     "autoexec": {
      "startup": false,
      "wait_interval": 0
     }
    },
    "colab_type": "code",
    "id": "VyPz_t8WWKMQ"
   },
   "outputs": [],
   "source": [
    "# What model to download.\n",
    "MODEL_NAME = 'D:\\\\Python\\\\models-master\\\\research\\\\object_detection\\\\exp_inf_graph_350k'\n",
    "\n",
    "\n",
    "# Path to frozen detection graph. This is the actual model that is used for the object detection.\n",
    "PATH_TO_FROZEN_GRAPH = MODEL_NAME + '\\\\frozen_inference_graph.pb'\n",
    "\n",
    "# List of the strings that is used to add correct label for each box.\n",
    "PATH_TO_LABELS = 'D:\\\\Python\\\\models-master\\\\research\\\\object_detection\\\\training\\\\object-detection.pbtxt'\n",
    "label_map = label_map_util.load_labelmap(\"D:\\\\Python\\\\models-master\\\\research\\\\object_detection\\\\training\\\\object-detection.pbtxt\")\n",
    "NUM_CLASSES = 8\n",
    "image_path=\"D:\\\\Python\\\\models-master\\\\research\\\\object_detection\\\\test_images\\\\image (14).png\""
   ]
  },
  {
   "cell_type": "code",
   "execution_count": null,
   "metadata": {
    "colab": {
     "autoexec": {
      "startup": false,
      "wait_interval": 0
     }
    },
    "colab_type": "code",
    "id": "hDbpHkiWWKMX"
   },
   "outputs": [],
   "source": []
  },
  {
   "cell_type": "markdown",
   "metadata": {
    "colab_type": "text",
    "id": "YBcB9QHLWKMU"
   },
   "source": [
    "## Load a (frozen) Tensorflow model into memory."
   ]
  },
  {
   "cell_type": "code",
   "execution_count": 6,
   "metadata": {
    "colab": {
     "autoexec": {
      "startup": false,
      "wait_interval": 0
     }
    },
    "colab_type": "code",
    "id": "KezjCRVvWKMV"
   },
   "outputs": [],
   "source": [
    "detection_graph = tf.Graph()\n",
    "with detection_graph.as_default():\n",
    "  od_graph_def = tf.GraphDef()\n",
    "  with tf.gfile.GFile(PATH_TO_FROZEN_GRAPH, 'rb') as fid:\n",
    "    serialized_graph = fid.read()\n",
    "    od_graph_def.ParseFromString(serialized_graph)\n",
    "    tf.import_graph_def(od_graph_def, name='')"
   ]
  },
  {
   "cell_type": "code",
   "execution_count": 7,
   "metadata": {
    "colab": {
     "autoexec": {
      "startup": false,
      "wait_interval": 0
     }
    },
    "colab_type": "code",
    "id": "hDbpHkiWWKMX"
   },
   "outputs": [],
   "source": [
    "categories = label_map_util.convert_label_map_to_categories(label_map, max_num_classes=NUM_CLASSES, use_display_name=True)\n",
    "category_index = label_map_util.create_category_index(categories)"
   ]
  },
  {
   "cell_type": "code",
   "execution_count": 82,
   "metadata": {
    "colab": {
     "autoexec": {
      "startup": false,
      "wait_interval": 0
     }
    },
    "colab_type": "code",
    "id": "aSlYc3JkWKMa"
   },
   "outputs": [],
   "source": [
    "def load_image_into_numpy_array(image):\n",
    "    start=time.time()\n",
    "    (im_width, im_height) = image.size\n",
    "    a=np.array(image.getdata())\n",
    "    print(time.time()-start)\n",
    "    b=a.reshape((im_height, im_width, 3))\n",
    "    print(time.time()-start)\n",
    "    c=b.astype(np.uint8)\n",
    "    print(time.time()-start)\n",
    "    \n",
    "    return c"
   ]
  },
  {
   "cell_type": "markdown",
   "metadata": {
    "colab_type": "text",
    "id": "H0_1AGhrWKMc"
   },
   "source": [
    "# Detection"
   ]
  },
  {
   "cell_type": "code",
   "execution_count": 8,
   "metadata": {
    "colab": {
     "autoexec": {
      "startup": false,
      "wait_interval": 0
     }
    },
    "colab_type": "code",
    "id": "92BHxzcNWKMf"
   },
   "outputs": [],
   "source": [
    "def run_inference_for_single_image(image, graph):\n",
    "    \n",
    "  with graph.as_default():\n",
    "    with tf.Session() as sess:\n",
    "      begin=time.time()\n",
    "      # Get handles to input and output tensors\n",
    "      ops = tf.get_default_graph().get_operations()\n",
    "      all_tensor_names = {output.name for op in ops for output in op.outputs}\n",
    "      tensor_dict = {}\n",
    "      for key in [\n",
    "          'num_detections', 'detection_boxes', 'detection_scores',\n",
    "          'detection_classes', 'detection_masks'\n",
    "      ]:\n",
    "        tensor_name = key + ':0'\n",
    "        if tensor_name in all_tensor_names:\n",
    "          tensor_dict[key] = tf.get_default_graph().get_tensor_by_name(\n",
    "              tensor_name)\n",
    "      if 'detection_masks' in tensor_dict:\n",
    "        # The following processing is only for single image\n",
    "        detection_boxes = tf.squeeze(tensor_dict['detection_boxes'], [0])\n",
    "        detection_masks = tf.squeeze(tensor_dict['detection_masks'], [0])\n",
    "        # Reframe is required to translate mask from box coordinates to image coordinates and fit the image size.\n",
    "        real_num_detection = tf.cast(tensor_dict['num_detections'][0], tf.int32)\n",
    "        detection_boxes = tf.slice(detection_boxes, [0, 0], [real_num_detection, -1])\n",
    "        detection_masks = tf.slice(detection_masks, [0, 0, 0], [real_num_detection, -1, -1])\n",
    "        detection_masks_reframed = utils_ops.reframe_box_masks_to_image_masks(\n",
    "            detection_masks, detection_boxes, image.shape[0], image.shape[1])\n",
    "        detection_masks_reframed = tf.cast(\n",
    "            tf.greater(detection_masks_reframed, 0.5), tf.uint8)\n",
    "        # Follow the convention by adding back the batch dimension\n",
    "        tensor_dict['detection_masks'] = tf.expand_dims(\n",
    "            detection_masks_reframed, 0)\n",
    "      image_tensor = tf.get_default_graph().get_tensor_by_name('image_tensor:0')\n",
    "\n",
    "      # Run inference\n",
    "      output_dict = sess.run(tensor_dict,\n",
    "                             feed_dict={image_tensor: np.expand_dims(image, 0)})\n",
    "\n",
    "      # all outputs are float32 numpy arrays, so convert types as appropriate\n",
    "      output_dict['num_detections'] = int(output_dict['num_detections'][0])\n",
    "      output_dict['detection_classes'] = output_dict[\n",
    "          'detection_classes'][0].astype(np.uint8)\n",
    "      output_dict['detection_boxes'] = output_dict['detection_boxes'][0]\n",
    "      output_dict['detection_scores'] = output_dict['detection_scores'][0]\n",
    "      if 'detection_masks' in output_dict:\n",
    "        output_dict['detection_masks'] = output_dict['detection_masks'][0]\n",
    "  print(\"functime\",time.time()-begin)\n",
    "  return output_dict"
   ]
  },
  {
   "cell_type": "code",
   "execution_count": 16,
   "metadata": {},
   "outputs": [],
   "source": [
    "def show(img):\n",
    "    \n",
    "    plt.imshow(img)\n",
    "    \n",
    "   "
   ]
  },
  {
   "cell_type": "code",
   "execution_count": 40,
   "metadata": {
    "colab": {
     "autoexec": {
      "startup": false,
      "wait_interval": 0
     }
    },
    "colab_type": "code",
    "id": "3a5wMHN8WKMh"
   },
   "outputs": [],
   "source": [
    "def crop_image(image_path):\n",
    "    start=time.time()\n",
    "    \n",
    "#     image = Image.open(image_path).convert(\"RGB\")\n",
    "    \n",
    "    image_np = cv2.imread(image_path)#load_image_into_numpy_array(image)\n",
    "    \n",
    "    #show(image_np)\n",
    "    \n",
    "#     image_np_expanded = np.expand_dims(image_np, axis=0)\n",
    "   \n",
    "    output_dict = run_inference_for_single_image(image_np, detection_graph)\n",
    "    \n",
    "    original=image_np.copy()\n",
    "    im = Image.fromarray(original)\n",
    "    im.save(\"testocr.jpg\")\n",
    "    \n",
    "    vis_util.visualize_boxes_and_labels_on_image_array(\n",
    "      image_np,\n",
    "      output_dict['detection_boxes'],\n",
    "      output_dict['detection_classes'],\n",
    "      output_dict['detection_scores'],\n",
    "      category_index,\n",
    "      instance_masks=output_dict.get('detection_masks'),\n",
    "      use_normalized_coordinates=True,\n",
    "      line_thickness=8)\n",
    "    show(image_np)\n",
    "    \n",
    "    (height,width) = image_np.shape[:2]\n",
    "    foundClasses=[]\n",
    "  \n",
    "    \n",
    "\n",
    "    crop=np.zeros((height,width))\n",
    "    \n",
    "    if (output_dict['detection_scores'][0]<0.8):\n",
    "        print('No detection')\n",
    "        pass\n",
    "    else:\n",
    "        class_name=category_index[output_dict['detection_classes'][0]]['name']\n",
    "        if class_name not in foundClasses:\n",
    "            foundClasses.append(class_name)\n",
    "\n",
    "            if class_name in ['passportfront','panfront']:\n",
    "\n",
    "                ymin = int((output_dict['detection_boxes'][0][0]*height))\n",
    "                xmin = int((output_dict['detection_boxes'][0][1]*width))\n",
    "                ymax = int((output_dict['detection_boxes'][0][2]*height))\n",
    "                xmax = int((output_dict['detection_boxes'][0][3]*width))\n",
    "                #print(ymin,ymax,xmin,xmax)\n",
    "                crop=original[ymin:ymax,xmin:xmax]\n",
    "                print (class_name)\n",
    "            else:\n",
    "               \n",
    "                print('Not Passport/PAN')\n",
    "    cv2.imwrite(\"testocr.jpg\",crop)\n",
    "    show(crop)\n",
    "    print(time.time()-start)\n",
    "    \n",
    "\n",
    "        #return cv2.imread(\"testocr.jpg\")    "
   ]
  },
  {
   "cell_type": "code",
   "execution_count": 41,
   "metadata": {},
   "outputs": [
    {
     "name": "stdout",
     "output_type": "stream",
     "text": [
      "functime 2.2337260246276855\n",
      "No detection\n",
      "2.451366901397705\n"
     ]
    }
   ],
   "source": [
    "crop_image(image_path)"
   ]
  },
  {
   "cell_type": "code",
   "execution_count": 86,
   "metadata": {},
   "outputs": [],
   "source": [
    "image = Image.open(\"testocr.jpg\").convert(\"RGB\")"
   ]
  },
  {
   "cell_type": "code",
   "execution_count": 88,
   "metadata": {},
   "outputs": [
    {
     "data": {
      "text/plain": [
       "array([[224, 222, 223],\n",
       "       [225, 223, 224],\n",
       "       [225, 223, 224],\n",
       "       ...,\n",
       "       [180, 170, 168],\n",
       "       [179, 169, 167],\n",
       "       [180, 170, 168]])"
      ]
     },
     "execution_count": 88,
     "metadata": {},
     "output_type": "execute_result"
    }
   ],
   "source": [
    "np.array(image.getdata())"
   ]
  },
  {
   "cell_type": "code",
   "execution_count": 89,
   "metadata": {},
   "outputs": [],
   "source": [
    "im = cv2.imread(\"testocr.jpg\")"
   ]
  },
  {
   "cell_type": "code",
   "execution_count": 9,
   "metadata": {},
   "outputs": [
    {
     "ename": "SyntaxError",
     "evalue": "invalid syntax (<ipython-input-9-ac05c1f485c7>, line 1)",
     "output_type": "error",
     "traceback": [
      "\u001b[1;36m  File \u001b[1;32m\"<ipython-input-9-ac05c1f485c7>\"\u001b[1;36m, line \u001b[1;32m1\u001b[0m\n\u001b[1;33m    def crop_only(image,)\u001b[0m\n\u001b[1;37m                         ^\u001b[0m\n\u001b[1;31mSyntaxError\u001b[0m\u001b[1;31m:\u001b[0m invalid syntax\n"
     ]
    }
   ],
   "source": []
  },
  {
   "cell_type": "code",
   "execution_count": 179,
   "metadata": {},
   "outputs": [],
   "source": [
    "def crop(image,score_arr,detclass,detbox_arr):\n",
    "   \n",
    "    \n",
    "    try:\n",
    "            (height,width) = image.shape[:2]\n",
    "            ymin = int(detbox_arr[0][0]*height)\n",
    "            xmin = int(detbox_arr[0][1]*width)\n",
    "            ymax = int(detbox_arr[0][2]*height)\n",
    "            xmax = int(detbox_arr[0][3]*width)\n",
    "            \n",
    "            bb_AR=(ymax-ymin)/(xmax-xmin)\n",
    "         \n",
    "           \n",
    "            if  (bb_AR<1) & (score_arr[0]>0.7):\n",
    "                cropped=image[ymin:ymax,xmin:xmax]\n",
    "                print(height,width,ymin,ymax,xmin,xmax,detbox_arr)\n",
    "                im = Image.fromarray(cropped)\n",
    "                im.save(\"testocr_1.jpg\")\n",
    "                \n",
    "                show(cropped)\n",
    "                \n",
    "    except:\n",
    "        print('No valid detection')"
   ]
  },
  {
   "cell_type": "code",
   "execution_count": 180,
   "metadata": {},
   "outputs": [],
   "source": [
    "\n",
    "def rotate_and_check(image_path):\n",
    "    score_arr=[]\n",
    "    detbox_arr=[]\n",
    "    detclass_arr=[]\n",
    "    images_arr=[]\n",
    "    image_np = cv2.imread(image_path)\n",
    "    image_np_expanded = np.expand_dims(image_np, axis=0)\n",
    "    #output_dict = run_inference_for_single_image(image_np, detection_graph)\n",
    "    \n",
    "    \n",
    "    #original.save(\"testocr.jpg\")\n",
    "\n",
    "        \n",
    "\n",
    "       \n",
    "    for i in range(0,4): \n",
    "        original=image_np.copy()\n",
    "        \n",
    "        output_dict = run_inference_for_single_image(image_np, detection_graph)\n",
    "        \n",
    "        vis_util.visualize_boxes_and_labels_on_image_array(\n",
    "      image_np,\n",
    "      output_dict['detection_boxes'],\n",
    "      output_dict['detection_classes'],\n",
    "      output_dict['detection_scores'],\n",
    "      category_index,\n",
    "      instance_masks=output_dict.get('detection_masks'),\n",
    "      use_normalized_coordinates=True,\n",
    "      line_thickness=8)\n",
    "        show(image_np)\n",
    "        (height,width) = image_np.shape[:2]\n",
    "    \n",
    "        score_arr.append(output_dict['detection_scores'])\n",
    "        detbox_arr.append(output_dict['detection_boxes'])\n",
    "        detclass_arr.append(output_dict['detection_classes'])\n",
    "        images_arr.append(original)\n",
    "\n",
    "        image_center = (width/2, height/2)\n",
    "        rotation_mat = cv2.getRotationMatrix2D(image_center, 90, 1.) \n",
    "        \n",
    "        rotation_mat[0, 2] += height/2 - image_center[0]\n",
    "        rotation_mat[1, 2] += width/2 - image_center[1]\n",
    "        image_np = cv2.warpAffine(original, rotation_mat, (height, width))\n",
    "    \n",
    "    score_arr=np.asarray(score_arr,dtype=np.float32)\n",
    "    detbox_arr=np.asarray(detbox_arr,dtype=np.float32)\n",
    "    detclass_arr=np.asarray(detclass_arr,dtype=np.float32)\n",
    "#     print(images_arr[2])\n",
    "    maximum=score_arr[:,0].argmax()\n",
    "    \n",
    "#     print(score_arr[maximum,:][:2])\n",
    "#     print(detclass_arr[maximum,:][:2])\n",
    "#     print(detbox_arr[maximum,:][:2][0][0])\n",
    "    crop(images_arr[maximum],score_arr[maximum,:][:2],detclass_arr[maximum,:][:2],detbox_arr[maximum,:][:2])\n",
    "\n",
    "    "
   ]
  },
  {
   "cell_type": "code",
   "execution_count": 181,
   "metadata": {
    "scrolled": false
   },
   "outputs": [
    {
     "name": "stdout",
     "output_type": "stream",
     "text": [
      "functime 2.140204906463623\n",
      "functime 2.1726808547973633\n",
      "functime 2.210221290588379\n",
      "functime 2.1524734497070312\n",
      "1168 826 165 406 181 538 [[0.14203933 0.21960066 0.34834936 0.6517998 ]\n",
      " [0.14203933 0.21960066 0.34834936 0.6517998 ]]\n"
     ]
    }
   ],
   "source": [
    "rotate_and_check(image_path)"
   ]
  },
  {
   "cell_type": "code",
   "execution_count": 40,
   "metadata": {},
   "outputs": [
    {
     "data": {
      "text/plain": [
       "array([], dtype=float32)"
      ]
     },
     "execution_count": 40,
     "metadata": {},
     "output_type": "execute_result"
    }
   ],
   "source": []
  },
  {
   "cell_type": "code",
   "execution_count": 21,
   "metadata": {},
   "outputs": [
    {
     "name": "stdout",
     "output_type": "stream",
     "text": [
      "(4, 100) (4, 100, 4) (4, 100)\n"
     ]
    }
   ],
   "source": [
    "print(score_arr.shape,detbox_arr.shape,detclass_arr.shape)"
   ]
  },
  {
   "cell_type": "code",
   "execution_count": 25,
   "metadata": {},
   "outputs": [
    {
     "data": {
      "text/plain": [
       "array([0.14203933, 0.21960066, 0.34834936, 0.6517998 ], dtype=float32)"
      ]
     },
     "execution_count": 25,
     "metadata": {},
     "output_type": "execute_result"
    }
   ],
   "source": []
  },
  {
   "cell_type": "code",
   "execution_count": 173,
   "metadata": {},
   "outputs": [],
   "source": [
    "score_arr=[]\n",
    "detbox_arr=[]\n",
    "detclass_arr=[]\n",
    "def rotate_and_check_old(image_path):\n",
    "    image_np = cv2.imread(image_path)\n",
    "    image_np_expanded = np.expand_dims(image_np, axis=0)\n",
    "    #output_dict = run_inference_for_single_image(image_np, detection_graph)\n",
    "    \n",
    "    \n",
    "    #original.save(\"testocr.jpg\")\n",
    "\n",
    "        \n",
    "\n",
    "       \n",
    "    for i in range(0,4): \n",
    "        original=image_np.copy()\n",
    "        \n",
    "        output_dict = run_inference_for_single_image(image_np, detection_graph)\n",
    "        \n",
    "        vis_util.visualize_boxes_and_labels_on_image_array(\n",
    "      image_np,\n",
    "      output_dict['detection_boxes'],\n",
    "      output_dict['detection_classes'],\n",
    "      output_dict['detection_scores'],\n",
    "      category_index,\n",
    "      instance_masks=output_dict.get('detection_masks'),\n",
    "      use_normalized_coordinates=True,\n",
    "      line_thickness=8)\n",
    "        show(image_np)\n",
    "        (height,width) = image_np.shape[:2]\n",
    "        try:\n",
    "            ymin = int((output_dict['detection_boxes'][0][0]*height))\n",
    "            xmin = int((output_dict['detection_boxes'][0][1]*width))\n",
    "            ymax = int((output_dict['detection_boxes'][0][2]*height))\n",
    "            xmax = int((output_dict['detection_boxes'][0][3]*width))\n",
    "            bb_AR=(ymax-ymin)/(xmax-xmin)\n",
    "            print(output_dict['detection_scores'][0:2],i)\n",
    "            if  (output_dict['detection_scores'][0]>0.7):\n",
    "                crop=original[ymin:ymax,xmin:xmax]\n",
    "                im = Image.fromarray(crop)\n",
    "                im.save(\"testocr_{}.jpg\".format(i))\n",
    "\n",
    "                show(crop)\n",
    "            score_arr.append(output_dict['detection_scores'])\n",
    "            detbox_arr.append(output_dict['detection_boxes'])\n",
    "            detclass_arr.append(output_dict['detection_classes'])\n",
    "            \n",
    "        except:\n",
    "            print(\"No valid scores\")\n",
    "        image_center = (width/2, height/2)\n",
    "        rotation_mat = cv2.getRotationMatrix2D(image_center, 90, 1.) \n",
    "        \n",
    "        rotation_mat[0, 2] += height/2 - image_center[0]\n",
    "        rotation_mat[1, 2] += width/2 - image_center[1]\n",
    "        image_np = cv2.warpAffine(original, rotation_mat, (height, width))\n",
    "#         print(original)\n",
    "        \n",
    "#         print(height,width,ymin,ymax,xmin,xmax,output_dict['detection_boxes'])\n",
    "        \n",
    "    \n",
    "    "
   ]
  },
  {
   "cell_type": "code",
   "execution_count": 174,
   "metadata": {},
   "outputs": [
    {
     "name": "stdout",
     "output_type": "stream",
     "text": [
      "functime 2.2267282009124756\n",
      "[0.91421896 0.7978376 ] 0\n",
      "[[[255 255 255]\n",
      "  [255 255 255]\n",
      "  [255 255 255]\n",
      "  ...\n",
      "  [245 251 246]\n",
      "  [248 254 249]\n",
      "  [250 255 251]]\n",
      "\n",
      " [[255 255 255]\n",
      "  [255 255 255]\n",
      "  [255 255 255]\n",
      "  ...\n",
      "  [245 251 246]\n",
      "  [248 254 249]\n",
      "  [250 255 251]]\n",
      "\n",
      " [[255 255 255]\n",
      "  [255 255 255]\n",
      "  [255 255 255]\n",
      "  ...\n",
      "  [245 251 246]\n",
      "  [248 254 249]\n",
      "  [250 255 251]]\n",
      "\n",
      " ...\n",
      "\n",
      " [[255 255 255]\n",
      "  [255 255 255]\n",
      "  [255 255 255]\n",
      "  ...\n",
      "  [255 253 248]\n",
      "  [255 253 248]\n",
      "  [255 253 248]]\n",
      "\n",
      " [[255 255 255]\n",
      "  [255 255 255]\n",
      "  [255 255 255]\n",
      "  ...\n",
      "  [255 253 246]\n",
      "  [255 253 246]\n",
      "  [255 253 246]]\n",
      "\n",
      " [[255 255 255]\n",
      "  [255 255 255]\n",
      "  [255 255 255]\n",
      "  ...\n",
      "  [255 252 245]\n",
      "  [255 252 245]\n",
      "  [255 252 245]]]\n",
      "functime 2.3976311683654785\n",
      "[0.20273925 0.13882041] 1\n",
      "[[[  0   0   0]\n",
      "  [  0   0   0]\n",
      "  [  0   0   0]\n",
      "  ...\n",
      "  [  0   0   0]\n",
      "  [  0   0   0]\n",
      "  [  0   0   0]]\n",
      "\n",
      " [[250 255 251]\n",
      "  [250 255 251]\n",
      "  [250 255 251]\n",
      "  ...\n",
      "  [255 253 248]\n",
      "  [255 253 246]\n",
      "  [255 252 245]]\n",
      "\n",
      " [[248 254 249]\n",
      "  [248 254 249]\n",
      "  [248 254 249]\n",
      "  ...\n",
      "  [255 253 248]\n",
      "  [255 253 246]\n",
      "  [255 252 245]]\n",
      "\n",
      " ...\n",
      "\n",
      " [[255 255 255]\n",
      "  [255 255 255]\n",
      "  [255 255 255]\n",
      "  ...\n",
      "  [255 255 255]\n",
      "  [255 255 255]\n",
      "  [255 255 255]]\n",
      "\n",
      " [[255 255 255]\n",
      "  [255 255 255]\n",
      "  [255 255 255]\n",
      "  ...\n",
      "  [255 255 255]\n",
      "  [255 255 255]\n",
      "  [255 255 255]]\n",
      "\n",
      " [[255 255 255]\n",
      "  [255 255 255]\n",
      "  [255 255 255]\n",
      "  ...\n",
      "  [255 255 255]\n",
      "  [255 255 255]\n",
      "  [255 255 255]]]\n",
      "functime 2.479583978652954\n",
      "[0.99998415 0.00194243] 2\n",
      "[[[  0   0   0]\n",
      "  [  0   0   0]\n",
      "  [  0   0   0]\n",
      "  ...\n",
      "  [  0   0   0]\n",
      "  [  0   0   0]\n",
      "  [  0   0   0]]\n",
      "\n",
      " [[  0   0   0]\n",
      "  [255 252 245]\n",
      "  [255 252 245]\n",
      "  ...\n",
      "  [255 255 255]\n",
      "  [255 255 255]\n",
      "  [255 255 255]]\n",
      "\n",
      " [[  0   0   0]\n",
      "  [255 253 246]\n",
      "  [255 253 246]\n",
      "  ...\n",
      "  [255 255 255]\n",
      "  [255 255 255]\n",
      "  [255 255 255]]\n",
      "\n",
      " ...\n",
      "\n",
      " [[  0   0   0]\n",
      "  [250 255 251]\n",
      "  [248 254 249]\n",
      "  ...\n",
      "  [255 255 255]\n",
      "  [255 255 255]\n",
      "  [255 255 255]]\n",
      "\n",
      " [[  0   0   0]\n",
      "  [250 255 251]\n",
      "  [248 254 249]\n",
      "  ...\n",
      "  [255 255 255]\n",
      "  [255 255 255]\n",
      "  [255 255 255]]\n",
      "\n",
      " [[  0   0   0]\n",
      "  [250 255 251]\n",
      "  [248 254 249]\n",
      "  ...\n",
      "  [255 255 255]\n",
      "  [255 255 255]\n",
      "  [255 255 255]]]\n",
      "functime 2.195950984954834\n",
      "[0.00141854 0.00111672] 3\n",
      "[[[  0   0   0]\n",
      "  [  0   0   0]\n",
      "  [  0   0   0]\n",
      "  ...\n",
      "  [  0   0   0]\n",
      "  [  0   0   0]\n",
      "  [  0   0   0]]\n",
      "\n",
      " [[  0   0   0]\n",
      "  [255 255 255]\n",
      "  [255 255 255]\n",
      "  ...\n",
      "  [255 255 255]\n",
      "  [255 255 255]\n",
      "  [255 255 255]]\n",
      "\n",
      " [[  0   0   0]\n",
      "  [255 255 255]\n",
      "  [255 255 255]\n",
      "  ...\n",
      "  [255 255 255]\n",
      "  [255 255 255]\n",
      "  [255 255 255]]\n",
      "\n",
      " ...\n",
      "\n",
      " [[  0   0   0]\n",
      "  [255 252 245]\n",
      "  [255 253 246]\n",
      "  ...\n",
      "  [245 251 246]\n",
      "  [245 251 246]\n",
      "  [245 251 246]]\n",
      "\n",
      " [[  0   0   0]\n",
      "  [255 252 245]\n",
      "  [255 253 246]\n",
      "  ...\n",
      "  [248 254 249]\n",
      "  [248 254 249]\n",
      "  [248 254 249]]\n",
      "\n",
      " [[  0   0   0]\n",
      "  [255 252 245]\n",
      "  [255 253 246]\n",
      "  ...\n",
      "  [250 255 251]\n",
      "  [250 255 251]\n",
      "  [250 255 251]]]\n"
     ]
    }
   ],
   "source": [
    "rotate_and_check_old(image_path)"
   ]
  },
  {
   "cell_type": "code",
   "execution_count": null,
   "metadata": {},
   "outputs": [],
   "source": []
  }
 ],
 "metadata": {
  "colab": {
   "default_view": {},
   "name": "object_detection_tutorial.ipynb?workspaceId=ronnyvotel:python_inference::citc",
   "provenance": [],
   "version": "0.3.2",
   "views": {}
  },
  "kernelspec": {
   "display_name": "Python 3",
   "language": "python",
   "name": "python3"
  },
  "language_info": {
   "codemirror_mode": {
    "name": "ipython",
    "version": 3
   },
   "file_extension": ".py",
   "mimetype": "text/x-python",
   "name": "python",
   "nbconvert_exporter": "python",
   "pygments_lexer": "ipython3",
   "version": "3.6.5"
  }
 },
 "nbformat": 4,
 "nbformat_minor": 1
}
